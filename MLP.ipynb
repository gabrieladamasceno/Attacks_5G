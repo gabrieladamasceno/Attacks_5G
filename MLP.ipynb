{
  "cells": [
    {
      "cell_type": "markdown",
      "metadata": {
        "id": "view-in-github",
        "colab_type": "text"
      },
      "source": [
        "<a href=\"https://colab.research.google.com/github/gabrieladamasceno/Attacks_5G/blob/main/MLP.ipynb\" target=\"_parent\"><img src=\"https://colab.research.google.com/assets/colab-badge.svg\" alt=\"Open In Colab\"/></a>"
      ]
    },
    {
      "cell_type": "code",
      "execution_count": 53,
      "metadata": {
        "colab": {
          "base_uri": "https://localhost:8080/"
        },
        "id": "cuurjZdWJk6h",
        "outputId": "6d0a20ca-6954-42fb-8cde-9f13f35cdcbe"
      },
      "outputs": [
        {
          "output_type": "stream",
          "name": "stdout",
          "text": [
            "Drive already mounted at /content/gdrive; to attempt to forcibly remount, call drive.mount(\"/content/gdrive\", force_remount=True).\n"
          ]
        }
      ],
      "source": [
        "from google.colab import drive\n",
        "from sklearn.preprocessing import LabelEncoder\n",
        "import pandas as pd\n",
        "\n",
        "# Acessar dataset\n",
        "drive.mount('/content/gdrive')\n",
        "\n",
        "# Carregar o dataset\n",
        "encoded = pd.read_csv(\"/content/gdrive/MyDrive/Datasets/Attacks/Encoded/Encoded.csv\")"
      ]
    },
    {
      "cell_type": "code",
      "execution_count": 54,
      "metadata": {
        "colab": {
          "base_uri": "https://localhost:8080/",
          "height": 87
        },
        "id": "8SYzQ-b7VFyU",
        "outputId": "73852523-3f21-4fa3-fd30-179ad1146cda"
      },
      "outputs": [
        {
          "output_type": "execute_result",
          "data": {
            "text/plain": [
              "'\\n# Verificar valores nulos\\nprint(encoded.isnull().sum())\\n\\n# Verificar valores infinitos\\nprint(np.isinf(encoded).sum())\\n\\n# Selecionar apenas colunas numéricas\\nnumeric_cols = encoded.select_dtypes(include=[np.number]).columns.tolist()\\n\\n# Verificar valores infinitos apenas nas colunas numéricas\\ninfinite_counts = np.isinf(encoded[numeric_cols]).sum()\\nprint(infinite_counts)\\n\\nencoded.fillna(0, inplace=True)\\n\\n# Verificar se ainda há valores NaN\\nnan_columns = encoded.isna().any()\\nprint(\"Colunas com valores NaN ainda:\", encoded.columns[nan_columns].tolist())\\n'"
            ],
            "application/vnd.google.colaboratory.intrinsic+json": {
              "type": "string"
            }
          },
          "metadata": {},
          "execution_count": 54
        }
      ],
      "source": [
        "'''\n",
        "# Verificar valores nulos\n",
        "print(encoded.isnull().sum())\n",
        "\n",
        "# Verificar valores infinitos\n",
        "print(np.isinf(encoded).sum())\n",
        "\n",
        "# Selecionar apenas colunas numéricas\n",
        "numeric_cols = encoded.select_dtypes(include=[np.number]).columns.tolist()\n",
        "\n",
        "# Verificar valores infinitos apenas nas colunas numéricas\n",
        "infinite_counts = np.isinf(encoded[numeric_cols]).sum()\n",
        "print(infinite_counts)\n",
        "\n",
        "encoded.fillna(0, inplace=True)\n",
        "\n",
        "# Verificar se ainda há valores NaN\n",
        "nan_columns = encoded.isna().any()\n",
        "print(\"Colunas com valores NaN ainda:\", encoded.columns[nan_columns].tolist())\n",
        "'''"
      ]
    },
    {
      "cell_type": "code",
      "execution_count": 55,
      "metadata": {
        "colab": {
          "base_uri": "https://localhost:8080/"
        },
        "id": "biNnSG49XmU0",
        "outputId": "7d6598d0-702c-47e5-deef-9bec027d304b"
      },
      "outputs": [
        {
          "output_type": "stream",
          "name": "stdout",
          "text": [
            "Número de amostras: 1215890\n",
            "Número de amostras (usando len): 1215890\n"
          ]
        }
      ],
      "source": [
        "# Usando shape\n",
        "num_amostras = encoded.shape[0]\n",
        "print(f\"Número de amostras: {num_amostras}\")\n",
        "\n",
        "# Usando len()\n",
        "num_amostras_len = len(encoded)\n",
        "print(f\"Número de amostras (usando len): {num_amostras_len}\")"
      ]
    },
    {
      "cell_type": "code",
      "execution_count": 56,
      "metadata": {
        "colab": {
          "base_uri": "https://localhost:8080/"
        },
        "id": "ULAbhjQIYl8b",
        "outputId": "6f43edab-7839-4c00-caef-954c8c6c4f4b"
      },
      "outputs": [
        {
          "output_type": "stream",
          "name": "stdout",
          "text": [
            "Nomes das colunas:\n",
            "Unnamed: 0\n",
            "Seq\n",
            "Dur\n",
            "RunTime\n",
            "Mean\n",
            "Sum\n",
            "Min\n",
            "Max\n",
            "sTos\n",
            "dTos\n",
            "sTtl\n",
            "dTtl\n",
            "sHops\n",
            "dHops\n",
            "TotPkts\n",
            "SrcPkts\n",
            "DstPkts\n",
            "TotBytes\n",
            "SrcBytes\n",
            "DstBytes\n",
            "Offset\n",
            "sMeanPktSz\n",
            "dMeanPktSz\n",
            "Load\n",
            "SrcLoad\n",
            "DstLoad\n",
            "Loss\n",
            "SrcLoss\n",
            "DstLoss\n",
            "pLoss\n",
            "SrcGap\n",
            "DstGap\n",
            "Rate\n",
            "SrcRate\n",
            "DstRate\n",
            "SrcWin\n",
            "DstWin\n",
            "sVid\n",
            "dVid\n",
            "SrcTCPBase\n",
            "DstTCPBase\n",
            "TcpRtt\n",
            "SynAck\n",
            "AckDat\n",
            "Label\n",
            "Attack Type\n",
            "Attack Tool\n",
            " *        \n",
            " *    V   \n",
            " *    f   \n",
            " e        \n",
            " e    f   \n",
            " e &      \n",
            " e *      \n",
            " e d      \n",
            " e g      \n",
            " e i      \n",
            " e r      \n",
            " e s      \n",
            " eU       \n",
            "e        \n",
            "arp\n",
            "icmp\n",
            "ipv6-icmp\n",
            "llc\n",
            "lldp\n",
            "sctp\n",
            "tcp\n",
            "udp\n",
            "ACC\n",
            "CON\n",
            "ECO\n",
            "FIN\n",
            "INT\n",
            "NRS\n",
            "REQ\n",
            "RSP\n",
            "RST\n",
            "TST\n",
            "URP\n",
            "Shutdown\n",
            "Start\n",
            "Status\n",
            "39\n",
            "4\n",
            "52\n",
            "54\n",
            "af11\n",
            "af12\n",
            "af41\n",
            "cs0\n",
            "cs4\n",
            "cs6\n",
            "cs7\n",
            "ef\n",
            "nan\n"
          ]
        }
      ],
      "source": [
        "# Exibir os nomes de todas as colunas\n",
        "colunas = encoded.columns.tolist()  # Converte o Index em uma lista\n",
        "print(\"Nomes das colunas:\")\n",
        "for coluna in colunas:\n",
        "    print(coluna)"
      ]
    },
    {
      "cell_type": "code",
      "source": [
        "# Selecionar apenas colunas numéricas\n",
        "numeric_cols = encoded.select_dtypes(include=['number']).columns\n",
        "\n",
        "# Aplicar a suavização apenas nas colunas numéricas\n",
        "for col in numeric_cols:\n",
        "    encoded[col] = encoded[col].fillna(encoded[col].mean())"
      ],
      "metadata": {
        "id": "F7xFWWJ6f72N"
      },
      "execution_count": 57,
      "outputs": []
    },
    {
      "cell_type": "code",
      "source": [
        "# columns with null values\n",
        "\n",
        "columns_null = []\n",
        "columns = encoded.columns\n",
        "for column in columns:\n",
        "    c = encoded[column].isnull().sum()\n",
        "    if c != 0:\n",
        "        print(column, 'has {} null values'.format(c))\n",
        "        columns_null.append(column)"
      ],
      "metadata": {
        "id": "MTktQ-fDi4cS"
      },
      "execution_count": 58,
      "outputs": []
    },
    {
      "cell_type": "markdown",
      "metadata": {
        "id": "REG482ke4ujI"
      },
      "source": [
        "## Features\n",
        "* Seq: Sequência de pacotes.\n",
        "* Offset: Deslocamento em bytes.\n",
        "* sTtl: Time to Live da fonte.\n",
        "* tcp: Indica se o protocolo TCP está sendo usado.\n",
        "* AckDat: Dados de reconhecimento.\n",
        "* RST: Sinalizador de reinício TCP.\n",
        "* INT: Interrupções no fluxo de dados.\n",
        "* TcpRtt: Tempo de ida e volta do TCP.\n",
        "* icmp: Indica se o protocolo ICMP está presente.\n",
        "* sMeanPktSz: Tamanho médio do pacote da fonte.\n",
        "* FIN: Sinalizador de finalização de conexão.\n",
        "* sHops: Número de saltos até o destino.\n",
        "* Mean: Valor médio de um conjunto de dados.\n",
        "* dTtl: Time to Live do destino.\n",
        "* SrcBytes: Bytes enviados da fonte.\n",
        "* TotBytes: Total de bytes.\n",
        "* dMeanPktSz: Tamanho médio do pacote do destino.\n",
        "* Status: Estado da conexão.\n",
        "* cs0: Parâmetro de controle.\n",
        "* SrcWin: Janela de origem TCP.\n",
        "* sTos: Tipo de serviço.\n",
        "* CON: Conexões.\n",
        "* REQ: Requisições.\n",
        "* Loss: Taxa de perda de pacotes."
      ]
    },
    {
      "cell_type": "markdown",
      "metadata": {
        "id": "z8Ha2Yr_7w_l"
      },
      "source": []
    },
    {
      "cell_type": "code",
      "execution_count": 59,
      "metadata": {
        "id": "-BgICT-qYW0g"
      },
      "outputs": [],
      "source": [
        "# Verificar o tipo da coluna 'Label'\n",
        "# tipo_coluna = encoded['e        '].dtype\n",
        "# print(f\"O tipo da coluna 'e' é: {tipo_coluna}\")"
      ]
    },
    {
      "cell_type": "code",
      "execution_count": 60,
      "metadata": {
        "id": "iV383A-eKYaC"
      },
      "outputs": [],
      "source": [
        "import pandas as pd\n",
        "import numpy as np\n",
        "from tensorflow.keras.models import Sequential\n",
        "from tensorflow.keras.layers import Input, Dense\n",
        "from tensorflow.keras.layers import Dropout\n",
        "from sklearn.model_selection import train_test_split\n",
        "from sklearn.preprocessing import StandardScaler, LabelEncoder, OneHotEncoder\n",
        "from sklearn.compose import ColumnTransformer\n",
        "from tensorflow.keras.optimizers import Adam\n",
        "\n",
        "\n",
        "# Definir as features que você deseja usar\n",
        "features = [\n",
        "    'Seq', 'Offset', 'sTtl', 'e        ', 'tcp', 'AckDat', 'RST', 'INT', 'TcpRtt', 'icmp',\n",
        "    'sMeanPktSz', 'FIN', 'sHops', 'Mean', 'dTtl', 'SrcBytes', 'TotBytes',\n",
        "    'dMeanPktSz', 'Status', 'cs0', 'SrcWin', 'sTos', 'CON', 'REQ', 'Loss'\n",
        "]\n",
        "\n",
        "# Separar as features e os rótulos\n",
        "X = encoded[features]  # Usar apenas as colunas selecionadas\n",
        "y = encoded['Label'].values\n",
        "\n",
        "# Codificar os rótulos para valores numéricos\n",
        "label_encoder = LabelEncoder()\n",
        "y = label_encoder.fit_transform(y)  # Transforma 'Benign' e 'Malign' em 0 e 1\n",
        "\n",
        "# Identificar colunas categóricas (se houver)\n",
        "categorical_cols = X.select_dtypes(include=['object']).columns.tolist()\n",
        "\n",
        "# Aplicar OneHotEncoder nas colunas categóricas\n",
        "transformer = ColumnTransformer(\n",
        "    transformers=[\n",
        "        ('cat', OneHotEncoder(), categorical_cols)  # Codificar colunas categóricas\n",
        "    ],\n",
        "    remainder='passthrough'  # Manter as colunas numéricas\n",
        ")\n",
        "\n",
        "X = transformer.fit_transform(X)  # Transformar as features\n",
        "\n",
        "# Normalização\n",
        "scaler = StandardScaler()\n",
        "X = scaler.fit_transform(X)"
      ]
    },
    {
      "cell_type": "code",
      "execution_count": 61,
      "metadata": {
        "id": "7ZERRU38MEHy"
      },
      "outputs": [],
      "source": [
        "# Dividir os dados em treino e teste\n",
        "X_train, X_test, y_train, y_test = train_test_split(X, y, test_size=0.2, random_state=42)\n"
      ]
    },
    {
      "cell_type": "code",
      "execution_count": 62,
      "metadata": {
        "id": "Zm-wv-Jc8IhK"
      },
      "outputs": [],
      "source": [
        "#pip install optuna"
      ]
    },
    {
      "cell_type": "code",
      "execution_count": 63,
      "metadata": {
        "colab": {
          "base_uri": "https://localhost:8080/",
          "height": 139
        },
        "id": "8LvlKBJV7JFt",
        "outputId": "95ff9483-b556-4dee-bea5-ac49c9624a94"
      },
      "outputs": [
        {
          "output_type": "execute_result",
          "data": {
            "text/plain": [
              "'\\nimport optuna\\nfrom tensorflow.keras.models import Sequential\\nfrom tensorflow.keras.optimizers import Adam\\nfrom tensorflow.keras.layers import Input, Dense\\nfrom sklearn.model_selection import train_test_split\\n\\n# Treinar o modelo usando o Optuna\\n\\n# Função objetivo para otimizar com Optuna\\ndef objective(trial):\\n    # Definindo hiperparâmetros\\n    n_layers = trial.suggest_int(\\'n_layers\\', 1, 3)  # Número de camadas ocultas\\n    units = trial.suggest_int(\\'units\\', 32, 128)     # Número de neurônios por camada\\n    lr = trial.suggest_loguniform(\\'lr\\', 1e-5, 1e-2) # Taxa de aprendizado\\n\\n    # Criar o modelo MLP\\n    model = Sequential()\\n    model.add(Dense(units, activation=\\'relu\\', input_shape=(X_train.shape[1],)))\\n    for _ in range(n_layers):\\n        model.add(Dense(units, activation=\\'relu\\'))\\n    model.add(Dense(1, activation=\\'sigmoid\\'))  # Saída para classificação binária\\n\\n    model.compile(optimizer=Adam(learning_rate=lr), loss=\\'binary_crossentropy\\', metrics=[\\'accuracy\\'])\\n\\n    # Treinar o modelo\\n    history = model.fit(X_train, y_train, epochs=10, validation_split=0.2, verbose=0)\\n\\n    # Avaliar o desempenho\\n    val_accuracy = history.history[\\'val_accuracy\\'][-1]\\n    return val_accuracy\\n\\n# Executar a otimização com Optuna\\nstudy = optuna.create_study(direction=\\'maximize\\')\\nstudy.optimize(objective, n_trials=50)\\n\\n# Melhores hiperparâmetros encontrados\\nprint(\"Melhores hiperparâmetros:\", study.best_params)\\n'"
            ],
            "application/vnd.google.colaboratory.intrinsic+json": {
              "type": "string"
            }
          },
          "metadata": {},
          "execution_count": 63
        }
      ],
      "source": [
        "'''\n",
        "import optuna\n",
        "from tensorflow.keras.models import Sequential\n",
        "from tensorflow.keras.optimizers import Adam\n",
        "from tensorflow.keras.layers import Input, Dense\n",
        "from sklearn.model_selection import train_test_split\n",
        "\n",
        "# Treinar o modelo usando o Optuna\n",
        "\n",
        "# Função objetivo para otimizar com Optuna\n",
        "def objective(trial):\n",
        "    # Definindo hiperparâmetros\n",
        "    n_layers = trial.suggest_int('n_layers', 1, 3)  # Número de camadas ocultas\n",
        "    units = trial.suggest_int('units', 32, 128)     # Número de neurônios por camada\n",
        "    lr = trial.suggest_loguniform('lr', 1e-5, 1e-2) # Taxa de aprendizado\n",
        "\n",
        "    # Criar o modelo MLP\n",
        "    model = Sequential()\n",
        "    model.add(Dense(units, activation='relu', input_shape=(X_train.shape[1],)))\n",
        "    for _ in range(n_layers):\n",
        "        model.add(Dense(units, activation='relu'))\n",
        "    model.add(Dense(1, activation='sigmoid'))  # Saída para classificação binária\n",
        "\n",
        "    model.compile(optimizer=Adam(learning_rate=lr), loss='binary_crossentropy', metrics=['accuracy'])\n",
        "\n",
        "    # Treinar o modelo\n",
        "    history = model.fit(X_train, y_train, epochs=10, validation_split=0.2, verbose=0)\n",
        "\n",
        "    # Avaliar o desempenho\n",
        "    val_accuracy = history.history['val_accuracy'][-1]\n",
        "    return val_accuracy\n",
        "\n",
        "# Executar a otimização com Optuna\n",
        "study = optuna.create_study(direction='maximize')\n",
        "study.optimize(objective, n_trials=50)\n",
        "\n",
        "# Melhores hiperparâmetros encontrados\n",
        "print(\"Melhores hiperparâmetros:\", study.best_params)\n",
        "'''"
      ]
    },
    {
      "cell_type": "code",
      "execution_count": 64,
      "metadata": {
        "colab": {
          "base_uri": "https://localhost:8080/",
          "height": 122
        },
        "id": "RTOoA_DhKa4J",
        "outputId": "9964344d-ba18-44cf-d360-7a652d5056a7"
      },
      "outputs": [
        {
          "output_type": "execute_result",
          "data": {
            "text/plain": [
              "\"\\nfrom sklearn.model_selection import train_test_split\\nfrom sklearn.metrics import confusion_matrix, ConfusionMatrixDisplay\\nfrom sklearn.neural_network import MLPClassifier\\n# Definir a estrutura da MLP Tanh\\nmodel = Sequential()\\nmodel.add(Input(shape=(X_train.shape[1],)))\\nmodel.add(Dense(96, activation='tanh')),  # Camada de entrada com 96 neurônios\\nmodel.add(Dense(64, activation='tanh')),  # Primeira camada oculta\\nmodel.add(Dense(64, activation='tanh')),  # Segunda camada oculta\\nmodel.add(Dense(64, activation='tanh')),  # Terceira camada oculta\\nmodel.add(Dense(1, activation='sigmoid'))  # Camada de saída para classificação binária\\n\\n# Compilar o modelo\\nmodel.compile(optimizer=Adam(learning_rate=0.0001, clipnorm=1.0), loss='binary_crossentropy', metrics=['accuracy'])\\n\\n# Treinar o modelo\\nhistory = model.fit(X_train, y_train, epochs=5, batch_size=100, validation_data=(X_test, y_test))\\n\""
            ],
            "application/vnd.google.colaboratory.intrinsic+json": {
              "type": "string"
            }
          },
          "metadata": {},
          "execution_count": 64
        }
      ],
      "source": [
        "'''\n",
        "from sklearn.model_selection import train_test_split\n",
        "from sklearn.metrics import confusion_matrix, ConfusionMatrixDisplay\n",
        "from sklearn.neural_network import MLPClassifier\n",
        "# Definir a estrutura da MLP Tanh\n",
        "model = Sequential()\n",
        "model.add(Input(shape=(X_train.shape[1],)))\n",
        "model.add(Dense(96, activation='tanh')),  # Camada de entrada com 96 neurônios\n",
        "model.add(Dense(64, activation='tanh')),  # Primeira camada oculta\n",
        "model.add(Dense(64, activation='tanh')),  # Segunda camada oculta\n",
        "model.add(Dense(64, activation='tanh')),  # Terceira camada oculta\n",
        "model.add(Dense(1, activation='sigmoid'))  # Camada de saída para classificação binária\n",
        "\n",
        "# Compilar o modelo\n",
        "model.compile(optimizer=Adam(learning_rate=0.0001, clipnorm=1.0), loss='binary_crossentropy', metrics=['accuracy'])\n",
        "\n",
        "# Treinar o modelo\n",
        "history = model.fit(X_train, y_train, epochs=5, batch_size=100, validation_data=(X_test, y_test))\n",
        "'''\n"
      ]
    },
    {
      "cell_type": "code",
      "source": [
        "'''y_pred = model.predict(X_test)\n",
        "y_pred_classes = (y_pred > 0.5).astype(int)\n",
        "\n",
        "\n",
        "cm = confusion_matrix(y_test, y_pred_classes)\n",
        "disp = ConfusionMatrixDisplay(confusion_matrix=cm, display_labels=[\"Benign\", \"Malign\"])\n",
        "disp.plot(cmap='Blues')'''"
      ],
      "metadata": {
        "colab": {
          "base_uri": "https://localhost:8080/",
          "height": 53
        },
        "id": "Bycm99St-8Di",
        "outputId": "ac4e9973-64bc-440e-a2ca-59a3cc6d2a0b"
      },
      "execution_count": 65,
      "outputs": [
        {
          "output_type": "execute_result",
          "data": {
            "text/plain": [
              "'y_pred = model.predict(X_test)\\ny_pred_classes = (y_pred > 0.5).astype(int)\\n\\n\\ncm = confusion_matrix(y_test, y_pred_classes)\\ndisp = ConfusionMatrixDisplay(confusion_matrix=cm, display_labels=[\"Benign\", \"Malign\"])\\ndisp.plot(cmap=\\'Blues\\')'"
            ],
            "application/vnd.google.colaboratory.intrinsic+json": {
              "type": "string"
            }
          },
          "metadata": {},
          "execution_count": 65
        }
      ]
    },
    {
      "cell_type": "code",
      "source": [],
      "metadata": {
        "id": "ODRyqXbL_9JY"
      },
      "execution_count": 65,
      "outputs": []
    },
    {
      "cell_type": "code",
      "source": [
        "from sklearn.model_selection import train_test_split\n",
        "from sklearn.metrics import confusion_matrix, ConfusionMatrixDisplay\n",
        "from sklearn.neural_network import MLPClassifier\n",
        "# Definir a estrutura da MLP Relu\n",
        "model = Sequential()\n",
        "model.add(Input(shape=(X_train.shape[1],)))\n",
        "model.add(Dense(96, activation='relu')),  # Camada de entrada com 96 neurônios\n",
        "model.add(Dense(64, activation='relu')),  # Primeira camada oculta\n",
        "model.add(Dense(64, activation='relu')),  # Segunda camada oculta\n",
        "model.add(Dense(64, activation='relu')),  # Terceira camada oculta\n",
        "model.add(Dense(1, activation='sigmoid'))  # Camada de saída para classificação binária\n",
        "\n",
        "# Compilar o modelo\n",
        "model.compile(optimizer=Adam(learning_rate=0.0001, clipnorm=1.0), loss='binary_crossentropy', metrics=['accuracy'])\n",
        "\n",
        "# Treinar o modelo\n",
        "history = model.fit(X_train, y_train, epochs=5, batch_size=100, validation_data=(X_test, y_test))"
      ],
      "metadata": {
        "colab": {
          "base_uri": "https://localhost:8080/"
        },
        "id": "O7dONqFBnQ2e",
        "outputId": "eb7dad24-b846-4d8c-b90f-41336426a800"
      },
      "execution_count": 66,
      "outputs": [
        {
          "output_type": "stream",
          "name": "stdout",
          "text": [
            "Epoch 1/5\n",
            "\u001b[1m9728/9728\u001b[0m \u001b[32m━━━━━━━━━━━━━━━━━━━━\u001b[0m\u001b[37m\u001b[0m \u001b[1m30s\u001b[0m 3ms/step - accuracy: 0.9804 - loss: 0.0759 - val_accuracy: 0.9987 - val_loss: 0.0046\n",
            "Epoch 2/5\n",
            "\u001b[1m9728/9728\u001b[0m \u001b[32m━━━━━━━━━━━━━━━━━━━━\u001b[0m\u001b[37m\u001b[0m \u001b[1m27s\u001b[0m 3ms/step - accuracy: 0.9992 - loss: 0.0041 - val_accuracy: 0.9992 - val_loss: 0.0026\n",
            "Epoch 3/5\n",
            "\u001b[1m9728/9728\u001b[0m \u001b[32m━━━━━━━━━━━━━━━━━━━━\u001b[0m\u001b[37m\u001b[0m \u001b[1m42s\u001b[0m 3ms/step - accuracy: 0.9995 - loss: 0.0019 - val_accuracy: 0.9996 - val_loss: 0.0015\n",
            "Epoch 4/5\n",
            "\u001b[1m9728/9728\u001b[0m \u001b[32m━━━━━━━━━━━━━━━━━━━━\u001b[0m\u001b[37m\u001b[0m \u001b[1m39s\u001b[0m 3ms/step - accuracy: 0.9996 - loss: 0.0016 - val_accuracy: 0.9996 - val_loss: 0.0013\n",
            "Epoch 5/5\n",
            "\u001b[1m9728/9728\u001b[0m \u001b[32m━━━━━━━━━━━━━━━━━━━━\u001b[0m\u001b[37m\u001b[0m \u001b[1m28s\u001b[0m 3ms/step - accuracy: 0.9996 - loss: 0.0015 - val_accuracy: 0.9995 - val_loss: 0.0015\n"
          ]
        }
      ]
    },
    {
      "cell_type": "code",
      "source": [
        "#Matriz de Confusão\n",
        "\n",
        "y_pred = model.predict(X_test)\n",
        "y_pred_classes = (y_pred > 0.5).astype(int)\n",
        "\n",
        "\n",
        "cm = confusion_matrix(y_test, y_pred_classes)\n",
        "disp = ConfusionMatrixDisplay(confusion_matrix=cm, display_labels=[\"Benign\", \"Malign\"])\n",
        "disp.plot(cmap='Blues')"
      ],
      "metadata": {
        "colab": {
          "base_uri": "https://localhost:8080/",
          "height": 484
        },
        "id": "RnbqL9ni_iYc",
        "outputId": "b5b9e866-5634-462f-be2a-3872d97727fe"
      },
      "execution_count": 70,
      "outputs": [
        {
          "output_type": "stream",
          "name": "stdout",
          "text": [
            "\u001b[1m7600/7600\u001b[0m \u001b[32m━━━━━━━━━━━━━━━━━━━━\u001b[0m\u001b[37m\u001b[0m \u001b[1m18s\u001b[0m 2ms/step\n"
          ]
        },
        {
          "output_type": "execute_result",
          "data": {
            "text/plain": [
              "<sklearn.metrics._plot.confusion_matrix.ConfusionMatrixDisplay at 0x7ccb66923fa0>"
            ]
          },
          "metadata": {},
          "execution_count": 70
        },
        {
          "output_type": "display_data",
          "data": {
            "text/plain": [
              "<Figure size 640x480 with 2 Axes>"
            ],
            "image/png": "[encoded data removed]"
          },
          "metadata": {}
        }
      ]
    },
    {
      "cell_type": "code",
      "source": [
        "#Maligno\n",
        "from sklearn.metrics import precision_score, recall_score, f1_score\n",
        "\n",
        "precision = precision_score(y_test, y_pred_classes, pos_label=1)\n",
        "recall = recall_score(y_test, y_pred_classes, pos_label=1)\n",
        "f1 = f1_score(y_test, y_pred_classes, pos_label=1)\n",
        "\n",
        "print(f\"Precisão: {precision}\")\n",
        "print(f\"Recall: {recall}\")\n",
        "print(f\"F1 Score: {f1}\")"
      ],
      "metadata": {
        "colab": {
          "base_uri": "https://localhost:8080/"
        },
        "id": "HO9JKPy5CO3o",
        "outputId": "7dfc6bee-d02d-44ae-ac92-e36b9885985a"
      },
      "execution_count": 68,
      "outputs": [
        {
          "output_type": "stream",
          "name": "stdout",
          "text": [
            "Precisão: 0.9995725509885607\n",
            "Recall: 0.9995861151821093\n",
            "F1 Score: 0.9995793330393188\n"
          ]
        }
      ]
    },
    {
      "cell_type": "code",
      "source": [
        "#Benigno\n",
        "from sklearn.metrics import precision_score, recall_score, f1_score\n",
        "\n",
        "precision = precision_score(y_test, y_pred_classes, pos_label=0)\n",
        "recall = recall_score(y_test, y_pred_classes, pos_label=0)\n",
        "f1 = f1_score(y_test, y_pred_classes, pos_label=0)\n",
        "\n",
        "print(f\"Precisão: {precision}\")\n",
        "print(f\"Recall: {recall}\")\n",
        "print(f\"F1 Score: {f1}\")"
      ],
      "metadata": {
        "colab": {
          "base_uri": "https://localhost:8080/"
        },
        "id": "4E6uKrnYCh46",
        "outputId": "6c1715ca-ee49-47bf-c4e8-1fc7b172e20c"
      },
      "execution_count": 69,
      "outputs": [
        {
          "output_type": "stream",
          "name": "stdout",
          "text": [
            "Precisão: 0.9993632036078169\n",
            "Recall: 0.9993423387686077\n",
            "F1 Score: 0.9993527710793064\n"
          ]
        }
      ]
    }
  ],
  "metadata": {
    "accelerator": "GPU",
    "colab": {
      "gpuType": "T4",
      "provenance": [],
      "include_colab_link": true
    },
    "kernelspec": {
      "display_name": "Python 3",
      "name": "python3"
    },
    "language_info": {
      "name": "python"
    }
  },
  "nbformat": 4,
  "nbformat_minor": 0
}