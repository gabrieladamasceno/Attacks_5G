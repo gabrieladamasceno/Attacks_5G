{
  "cells": [
    {
      "cell_type": "markdown",
      "metadata": {
        "id": "view-in-github",
        "colab_type": "text"
      },
      "source": [
        "<a href=\"https://colab.research.google.com/github/gabrieladamasceno/Attacks_5G/blob/main/MLP.ipynb\" target=\"_parent\"><img src=\"https://colab.research.google.com/assets/colab-badge.svg\" alt=\"Open In Colab\"/></a>"
      ]
    },
    {
      "cell_type": "code",
      "execution_count": 2,
      "metadata": {
        "colab": {
          "base_uri": "https://localhost:8080/"
        },
        "id": "cuurjZdWJk6h",
        "outputId": "7f6ae088-53c8-4158-a76d-5f2cfb5b5f2f"
      },
      "outputs": [
        {
          "output_type": "stream",
          "name": "stdout",
          "text": [
            "Mounted at /content/gdrive\n"
          ]
        }
      ],
      "source": [
        "from google.colab import drive\n",
        "from sklearn.preprocessing import LabelEncoder\n",
        "import pandas as pd\n",
        "\n",
        "# Acessar dataset\n",
        "drive.mount('/content/gdrive')\n",
        "\n",
        "# Carregar o dataset\n",
        "encoded = pd.read_csv(\"/content/gdrive/MyDrive/Datasets/Attacks/Encoded/Encoded.csv\")"
      ]
    },
    {
      "cell_type": "code",
      "source": [
        "pip install imbalanced-learn\n"
      ],
      "metadata": {
        "colab": {
          "base_uri": "https://localhost:8080/"
        },
        "id": "8S3nVM7mjjwA",
        "outputId": "045e9f06-fb00-4e63-b63d-91e13b24b1e4"
      },
      "execution_count": 3,
      "outputs": [
        {
          "output_type": "stream",
          "name": "stdout",
          "text": [
            "Collecting imbalanced-learn\n",
            "  Downloading imbalanced_learn-0.12.4-py3-none-any.whl.metadata (8.3 kB)\n",
            "Requirement already satisfied: numpy>=1.17.3 in /usr/local/lib/python3.10/dist-packages (from imbalanced-learn) (1.26.4)\n",
            "Requirement already satisfied: scipy>=1.5.0 in /usr/local/lib/python3.10/dist-packages (from imbalanced-learn) (1.13.1)\n",
            "Requirement already satisfied: scikit-learn>=1.0.2 in /usr/local/lib/python3.10/dist-packages (from imbalanced-learn) (1.5.2)\n",
            "Requirement already satisfied: joblib>=1.1.1 in /usr/local/lib/python3.10/dist-packages (from imbalanced-learn) (1.4.2)\n",
            "Requirement already satisfied: threadpoolctl>=2.0.0 in /usr/local/lib/python3.10/dist-packages (from imbalanced-learn) (3.5.0)\n",
            "Downloading imbalanced_learn-0.12.4-py3-none-any.whl (258 kB)\n",
            "\u001b[?25l   \u001b[90m━━━━━━━━━━━━━━━━━━━━━━━━━━━━━━━━━━━━━━━━\u001b[0m \u001b[32m0.0/258.3 kB\u001b[0m \u001b[31m?\u001b[0m eta \u001b[36m-:--:--\u001b[0m\r\u001b[2K   \u001b[91m━━━━━━━━━━━━━━━━━━━\u001b[0m\u001b[90m╺\u001b[0m\u001b[90m━━━━━━━━━━━━━━━━━━━━\u001b[0m \u001b[32m122.9/258.3 kB\u001b[0m \u001b[31m3.5 MB/s\u001b[0m eta \u001b[36m0:00:01\u001b[0m\r\u001b[2K   \u001b[90m━━━━━━━━━━━━━━━━━━━━━━━━━━━━━━━━━━━━━━━━\u001b[0m \u001b[32m258.3/258.3 kB\u001b[0m \u001b[31m3.9 MB/s\u001b[0m eta \u001b[36m0:00:00\u001b[0m\n",
            "\u001b[?25hInstalling collected packages: imbalanced-learn\n",
            "Successfully installed imbalanced-learn-0.12.4\n"
          ]
        }
      ]
    },
    {
      "cell_type": "code",
      "source": [
        "import pandas as pd\n",
        "import numpy as np\n",
        "from sklearn.model_selection import train_test_split\n",
        "from sklearn.preprocessing import StandardScaler, LabelEncoder\n",
        "from imblearn.over_sampling import SMOTE\n",
        "from imblearn.under_sampling import RandomUnderSampler\n",
        "from imblearn.pipeline import Pipeline\n",
        "from tensorflow.keras.models import Sequential\n",
        "from tensorflow.keras.layers import Dense, Input\n",
        "from tensorflow.keras.optimizers import Adam\n",
        "from sklearn.metrics import confusion_matrix, ConfusionMatrixDisplay, precision_score, recall_score, f1_score\n",
        "import matplotlib.pyplot as plt\n"
      ],
      "metadata": {
        "id": "7VCtN5o8jsGr"
      },
      "execution_count": 4,
      "outputs": []
    },
    {
      "cell_type": "code",
      "execution_count": 5,
      "metadata": {
        "colab": {
          "base_uri": "https://localhost:8080/"
        },
        "id": "biNnSG49XmU0",
        "outputId": "c87d12fc-e8b2-4e93-b41e-2c7fc753fe44"
      },
      "outputs": [
        {
          "output_type": "stream",
          "name": "stdout",
          "text": [
            "Número de amostras: 1215890\n",
            "Número de amostras (usando len): 1215890\n"
          ]
        }
      ],
      "source": [
        "# Usando shape\n",
        "num_amostras = encoded.shape[0]\n",
        "print(f\"Número de amostras: {num_amostras}\")\n",
        "\n",
        "# Usando len()\n",
        "num_amostras_len = len(encoded)\n",
        "print(f\"Número de amostras (usando len): {num_amostras_len}\")"
      ]
    },
    {
      "cell_type": "code",
      "execution_count": 8,
      "metadata": {
        "colab": {
          "base_uri": "https://localhost:8080/"
        },
        "id": "ULAbhjQIYl8b",
        "outputId": "9654e647-607d-47aa-e4ca-87d8ffd4d366"
      },
      "outputs": [
        {
          "output_type": "stream",
          "name": "stdout",
          "text": [
            "Nomes das colunas:\n",
            "Unnamed: 0\n",
            "Seq\n",
            "Dur\n",
            "RunTime\n",
            "Mean\n",
            "Sum\n",
            "Min\n",
            "Max\n",
            "sTos\n",
            "dTos\n",
            "sTtl\n",
            "dTtl\n",
            "sHops\n",
            "dHops\n",
            "TotPkts\n",
            "SrcPkts\n",
            "DstPkts\n",
            "TotBytes\n",
            "SrcBytes\n",
            "DstBytes\n",
            "Offset\n",
            "sMeanPktSz\n",
            "dMeanPktSz\n",
            "Load\n",
            "SrcLoad\n",
            "DstLoad\n",
            "Loss\n",
            "SrcLoss\n",
            "DstLoss\n",
            "pLoss\n",
            "SrcGap\n",
            "DstGap\n",
            "Rate\n",
            "SrcRate\n",
            "DstRate\n",
            "SrcWin\n",
            "DstWin\n",
            "sVid\n",
            "dVid\n",
            "SrcTCPBase\n",
            "DstTCPBase\n",
            "TcpRtt\n",
            "SynAck\n",
            "AckDat\n",
            "Label\n",
            "Attack Type\n",
            "Attack Tool\n",
            " *        \n",
            " *    V   \n",
            " *    f   \n",
            " e        \n",
            " e    f   \n",
            " e &      \n",
            " e *      \n",
            " e d      \n",
            " e g      \n",
            " e i      \n",
            " e r      \n",
            " e s      \n",
            " eU       \n",
            "e        \n",
            "arp\n",
            "icmp\n",
            "ipv6-icmp\n",
            "llc\n",
            "lldp\n",
            "sctp\n",
            "tcp\n",
            "udp\n",
            "ACC\n",
            "CON\n",
            "ECO\n",
            "FIN\n",
            "INT\n",
            "NRS\n",
            "REQ\n",
            "RSP\n",
            "RST\n",
            "TST\n",
            "URP\n",
            "Shutdown\n",
            "Start\n",
            "Status\n",
            "39\n",
            "4\n",
            "52\n",
            "54\n",
            "af11\n",
            "af12\n",
            "af41\n",
            "cs0\n",
            "cs4\n",
            "cs6\n",
            "cs7\n",
            "ef\n",
            "nan\n"
          ]
        }
      ],
      "source": [
        "# Exibir os nomes de todas as colunas\n",
        "colunas = encoded.columns.tolist()  # Converte o Index em uma lista\n",
        "print(\"Nomes das colunas:\")\n",
        "for coluna in colunas:\n",
        "    print(coluna)"
      ]
    },
    {
      "cell_type": "code",
      "source": [
        "# Selecionar apenas colunas numéricas\n",
        "numeric_cols = encoded.select_dtypes(include=['number']).columns\n",
        "\n",
        "# Aplicar a suavização apenas nas colunas numéricas\n",
        "for col in numeric_cols:\n",
        "    encoded[col] = encoded[col].fillna(encoded[col].mean())"
      ],
      "metadata": {
        "id": "F7xFWWJ6f72N"
      },
      "execution_count": 9,
      "outputs": []
    },
    {
      "cell_type": "code",
      "source": [
        "# columns with null values\n",
        "\n",
        "columns_null = []\n",
        "columns = encoded.columns\n",
        "for column in columns:\n",
        "    c = encoded[column].isnull().sum()\n",
        "    if c != 0:\n",
        "        print(column, 'has {} null values'.format(c))\n",
        "        columns_null.append(column)"
      ],
      "metadata": {
        "id": "MTktQ-fDi4cS"
      },
      "execution_count": 10,
      "outputs": []
    },
    {
      "cell_type": "markdown",
      "metadata": {
        "id": "REG482ke4ujI"
      },
      "source": [
        "Features\n",
        "* Seq: Sequência de pacotes.\n",
        "* Offset: Deslocamento em bytes.\n",
        "* sTtl: Time to Live da fonte.\n",
        "* tcp: Indica se o protocolo TCP está sendo usado.\n",
        "* AckDat: Dados de reconhecimento.\n",
        "* RST: Sinalizador de reinício TCP.\n",
        "* INT: Interrupções no fluxo de dados.\n",
        "* TcpRtt: Tempo de ida e volta do TCP.\n",
        "* icmp: Indica se o protocolo ICMP está presente.\n",
        "* sMeanPktSz: Tamanho médio do pacote da fonte.\n",
        "* FIN: Sinalizador de finalização de conexão.\n",
        "* sHops: Número de saltos até o destino.\n",
        "* Mean: Valor médio de um conjunto de dados.\n",
        "* dTtl: Time to Live do destino.\n",
        "* SrcBytes: Bytes enviados da fonte.\n",
        "* TotBytes: Total de bytes.\n",
        "* dMeanPktSz: Tamanho médio do pacote do destino.\n",
        "* Status: Estado da conexão.\n",
        "* cs0: Parâmetro de controle.\n",
        "* SrcWin: Janela de origem TCP.\n",
        "* sTos: Tipo de serviço.\n",
        "* CON: Conexões.\n",
        "* REQ: Requisições.\n",
        "* Loss: Taxa de perda de pacotes."
      ]
    },
    {
      "cell_type": "code",
      "execution_count": 11,
      "metadata": {
        "id": "iV383A-eKYaC"
      },
      "outputs": [],
      "source": [
        "import pandas as pd\n",
        "import numpy as np\n",
        "from tensorflow.keras.models import Sequential\n",
        "from tensorflow.keras.layers import Input, Dense\n",
        "from tensorflow.keras.layers import Dropout\n",
        "from sklearn.model_selection import train_test_split\n",
        "from sklearn.preprocessing import StandardScaler, LabelEncoder, OneHotEncoder\n",
        "from sklearn.compose import ColumnTransformer\n",
        "from tensorflow.keras.optimizers import Adam\n",
        "\n",
        "\n",
        "# Definir as features que você deseja usar\n",
        "features = [\n",
        "    'Seq', 'Offset', 'sTtl', 'e        ', 'tcp', 'AckDat', 'RST', 'INT', 'TcpRtt', 'icmp',\n",
        "    'sMeanPktSz', 'FIN', 'sHops', 'Mean', 'dTtl', 'SrcBytes', 'TotBytes',\n",
        "    'dMeanPktSz', 'Status', 'cs0', 'SrcWin', 'sTos', 'CON', 'REQ', 'Loss'\n",
        "]\n",
        "\n",
        "# Separar as features e os rótulos\n",
        "X = encoded[features]  # Usar apenas as colunas selecionadas\n",
        "y = encoded['Label'].values\n",
        "\n",
        "# Codificar os rótulos para valores numéricos\n",
        "label_encoder = LabelEncoder()\n",
        "y = label_encoder.fit_transform(y)  # Transforma 'Benign' e 'Malign' em 0 e 1\n",
        "\n",
        "# Identificar colunas categóricas (se houver)\n",
        "categorical_cols = X.select_dtypes(include=['object']).columns.tolist()\n",
        "\n",
        "# Aplicar OneHotEncoder nas colunas categóricas\n",
        "transformer = ColumnTransformer(\n",
        "    transformers=[\n",
        "        ('cat', OneHotEncoder(), categorical_cols)  # Codificar colunas categóricas\n",
        "    ],\n",
        "    remainder='passthrough'  # Manter as colunas numéricas\n",
        ")\n",
        "\n",
        "X = transformer.fit_transform(X)  # Transformar as features\n",
        "\n",
        "# Normalização\n",
        "scaler = StandardScaler()\n",
        "X = scaler.fit_transform(X)"
      ]
    },
    {
      "cell_type": "code",
      "source": [
        "from imblearn.under_sampling import RandomUnderSampler\n",
        "\n",
        "import pandas as pd\n",
        "\n",
        "print(pd.Series(y).value_counts())"
      ],
      "metadata": {
        "colab": {
          "base_uri": "https://localhost:8080/"
        },
        "id": "9EfnQ6RlhiOG",
        "outputId": "6017530c-a164-4b9f-dd28-0028e2c308ba"
      },
      "execution_count": 13,
      "outputs": [
        {
          "output_type": "stream",
          "name": "stdout",
          "text": [
            "1    738153\n",
            "0    477737\n",
            "Name: count, dtype: int64\n"
          ]
        }
      ]
    },
    {
      "cell_type": "code",
      "source": [
        "print(pd.Series(y_resampled).value_counts())"
      ],
      "metadata": {
        "colab": {
          "base_uri": "https://localhost:8080/"
        },
        "id": "3SHGFWvIh_YQ",
        "outputId": "0a8b4ee9-448f-429d-c046-63fe56a91d27"
      },
      "execution_count": 17,
      "outputs": [
        {
          "output_type": "stream",
          "name": "stdout",
          "text": [
            "0    477737\n",
            "1    477737\n",
            "Name: count, dtype: int64\n"
          ]
        }
      ]
    },
    {
      "cell_type": "code",
      "source": [
        "# Criar o objeto de undersampling\n",
        "undersampler = RandomUnderSampler(sampling_strategy='auto', random_state=42)\n",
        "\n",
        "# Aplicar o undersampling\n",
        "X_resampled, y_resampled = undersampler.fit_resample(X, y)"
      ],
      "metadata": {
        "id": "rGBQHSuch5lR"
      },
      "execution_count": 18,
      "outputs": []
    },
    {
      "cell_type": "code",
      "execution_count": 21,
      "metadata": {
        "id": "7ZERRU38MEHy"
      },
      "outputs": [],
      "source": [
        "# Dividir os dados em treino e teste\n",
        "#X_train, X_test, y_train, y_test = train_test_split(X, y, test_size=0.2, random_state=42)\n",
        "X_train, X_test, y_train, y_test = train_test_split(X_resampled, y_resampled, test_size=0.2, random_state=42)\n"
      ]
    },
    {
      "cell_type": "code",
      "source": [
        "print(\"Amostras de treino:\", len(X_train))\n",
        "print(\"Amostras de teste:\", len(X_test))"
      ],
      "metadata": {
        "id": "_4OhbeqtppjF",
        "colab": {
          "base_uri": "https://localhost:8080/"
        },
        "outputId": "40551130-3e6f-471e-d1f9-c6c5dea9f8ef"
      },
      "execution_count": 22,
      "outputs": [
        {
          "output_type": "stream",
          "name": "stdout",
          "text": [
            "Amostras de treino: 764379\n",
            "Amostras de teste: 191095\n"
          ]
        }
      ]
    },
    {
      "cell_type": "code",
      "source": [
        "import psutil\n",
        "import time\n",
        "from keras.callbacks import Callback\n",
        "\n",
        "# Função para monitorar recursos\n",
        "def monitor_resource_usage():\n",
        "    process = psutil.Process()\n",
        "    memory_info = process.memory_info()\n",
        "    cpu_percent = psutil.cpu_percent(interval=0.1)\n",
        "    memory_usage_mb = memory_info.rss / (1024 * 1024)\n",
        "    return cpu_percent, memory_usage_mb\n",
        "\n",
        "# Callback personalizado para monitorar CPU e memória\n",
        "class ResourceMonitor(Callback):\n",
        "    def on_epoch_begin(self, epoch, logs=None):\n",
        "        # Antes da época começar\n",
        "        self.start_time = time.time()\n",
        "        self.start_cpu, self.start_memory = monitor_resource_usage()\n",
        "        print(f\"\\n[Início da Época {epoch + 1}]\")\n",
        "        print(f\"CPU inicial: {self.start_cpu:.2f}%, Memória inicial: {self.start_memory:.2f} MB\")\n",
        "\n",
        "    def on_epoch_end(self, epoch, logs=None):\n",
        "        # Após a época terminar\n",
        "        end_time = time.time()\n",
        "        end_cpu, end_memory = monitor_resource_usage()\n",
        "        elapsed_time = end_time - self.start_time\n",
        "        memory_diff = end_memory - self.start_memory\n",
        "\n",
        "        print(f\"[Fim da Época {epoch + 1}]\")\n",
        "        print(f\"CPU final: {end_cpu:.2f}%, Memória consumida: {memory_diff:.2f} MB, Tempo gasto: {elapsed_time:.2f} segundos\")\n",
        "\n",
        "# Instanciar o callback\n",
        "resource_monitor = ResourceMonitor()"
      ],
      "metadata": {
        "id": "s4yCHc3I-s6b"
      },
      "execution_count": 44,
      "outputs": []
    },
    {
      "cell_type": "code",
      "source": [
        "from sklearn.model_selection import train_test_split\n",
        "from sklearn.metrics import confusion_matrix, ConfusionMatrixDisplay\n",
        "from sklearn.neural_network import MLPClassifier\n",
        "from keras.regularizers import l2\n",
        "from keras.layers import Dropout\n",
        "from keras.callbacks import EarlyStopping\n",
        "from keras.layers import BatchNormalization\n",
        "\n",
        "early_stopping = EarlyStopping(monitor='val_loss', patience=10, restore_best_weights=True)\n",
        "\n",
        "\n",
        "# Definir a estrutura da MLP Relu\n",
        "model = Sequential()\n",
        "model.add(Input(shape=(X_train.shape[1],)))\n",
        "model.add(Dense(96, activation='relu', kernel_regularizer=l2(0.01))),  # Camada de entrada com 96 neurônios\n",
        "model.add(Dropout(0.5))\n",
        "model.add(Dense(64, activation='relu', kernel_regularizer=l2(0.01))),  # Primeira camada oculta\n",
        "model.add(Dropout(0.5))\n",
        "model.add(Dense(64, activation='relu', kernel_regularizer=l2(0.01))),  # Segunda camada oculta\n",
        "model.add(Dropout(0.5))\n",
        "model.add(Dense(64, activation='relu', kernel_regularizer=l2(0.01))),  # Terceira camada oculta\n",
        "model.add(Dense(1, activation='sigmoid'))  # Camada de saída para classificação binária\n",
        "model.add(BatchNormalization())\n",
        "\n",
        "# Compilar o modelo\n",
        "model.compile(optimizer=Adam(learning_rate=0.0001, clipnorm=1.0), loss='binary_crossentropy', metrics=['accuracy'])\n",
        "\n",
        "# Treinar o modelo\n",
        "history = model.fit(X_train, y_train, epochs=20, batch_size=32, validation_data=(X_test, y_test), callbacks=[early_stopping, resource_monitor]) #coloquei o batch size como 32\n",
        "monitor_resource_usage()\n",
        "time.sleep(1)"
      ],
      "metadata": {
        "colab": {
          "base_uri": "https://localhost:8080/"
        },
        "id": "O7dONqFBnQ2e",
        "outputId": "b11ba6d6-f9d1-4d19-9886-2b9e76d0a4c5"
      },
      "execution_count": 45,
      "outputs": [
        {
          "output_type": "stream",
          "name": "stdout",
          "text": [
            "\n",
            "[Início da Época 1]\n",
            "CPU inicial: 0.20%, Memória inicial: 8222.29 MB\n",
            "Epoch 1/20\n",
            "23883/23887 [============================>.] - ETA: 0s - loss: 0.5389 - accuracy: 0.9695[Fim da Época 1]\n",
            "CPU final: 0.30%, Memória consumida: 22.86 MB, Tempo gasto: 61.48 segundos\n",
            "23887/23887 [==============================] - 61s 3ms/step - loss: 0.5389 - accuracy: 0.9695 - val_loss: 0.1076 - val_accuracy: 0.9920\n",
            "\n",
            "[Início da Época 2]\n",
            "CPU inicial: 0.20%, Memória inicial: 8245.15 MB\n",
            "Epoch 2/20\n",
            "23877/23887 [============================>.] - ETA: 0s - loss: 0.1139 - accuracy: 0.9900[Fim da Época 2]\n",
            "CPU final: 0.10%, Memória consumida: 15.63 MB, Tempo gasto: 60.47 segundos\n",
            "23887/23887 [==============================] - 60s 3ms/step - loss: 0.1139 - accuracy: 0.9900 - val_loss: 0.1049 - val_accuracy: 0.9911\n",
            "\n",
            "[Início da Época 3]\n",
            "CPU inicial: 0.70%, Memória inicial: 8260.78 MB\n",
            "Epoch 3/20\n",
            "23872/23887 [============================>.] - ETA: 0s - loss: 0.1133 - accuracy: 0.9905[Fim da Época 3]\n",
            "CPU final: 0.20%, Memória consumida: 6.56 MB, Tempo gasto: 60.20 segundos\n",
            "23887/23887 [==============================] - 60s 3ms/step - loss: 0.1133 - accuracy: 0.9905 - val_loss: 0.1037 - val_accuracy: 0.9925\n",
            "\n",
            "[Início da Época 4]\n",
            "CPU inicial: 0.50%, Memória inicial: 8267.34 MB\n",
            "Epoch 4/20\n",
            "23869/23887 [============================>.] - ETA: 0s - loss: 0.1126 - accuracy: 0.9908[Fim da Época 4]\n",
            "CPU final: 0.20%, Memória consumida: 6.52 MB, Tempo gasto: 60.85 segundos\n",
            "23887/23887 [==============================] - 61s 3ms/step - loss: 0.1125 - accuracy: 0.9908 - val_loss: 0.0990 - val_accuracy: 0.9924\n",
            "\n",
            "[Início da Época 5]\n",
            "CPU inicial: 0.10%, Memória inicial: 8273.87 MB\n",
            "Epoch 5/20\n",
            "23881/23887 [============================>.] - ETA: 0s - loss: 0.1103 - accuracy: 0.9909[Fim da Época 5]\n",
            "CPU final: 0.50%, Memória consumida: 0.89 MB, Tempo gasto: 60.31 segundos\n",
            "23887/23887 [==============================] - 60s 3ms/step - loss: 0.1103 - accuracy: 0.9909 - val_loss: 0.0998 - val_accuracy: 0.9921\n",
            "\n",
            "[Início da Época 6]\n",
            "CPU inicial: 0.50%, Memória inicial: 8274.76 MB\n",
            "Epoch 6/20\n",
            "23878/23887 [============================>.] - ETA: 0s - loss: 0.1099 - accuracy: 0.9911[Fim da Época 6]\n",
            "CPU final: 1.50%, Memória consumida: 0.59 MB, Tempo gasto: 60.42 segundos\n",
            "23887/23887 [==============================] - 60s 3ms/step - loss: 0.1099 - accuracy: 0.9911 - val_loss: 0.1035 - val_accuracy: 0.9925\n",
            "\n",
            "[Início da Época 7]\n",
            "CPU inicial: 1.60%, Memória inicial: 8275.36 MB\n",
            "Epoch 7/20\n",
            "23881/23887 [============================>.] - ETA: 0s - loss: 0.1091 - accuracy: 0.9910[Fim da Época 7]\n",
            "CPU final: 0.20%, Memória consumida: 6.56 MB, Tempo gasto: 58.46 segundos\n",
            "23887/23887 [==============================] - 58s 2ms/step - loss: 0.1092 - accuracy: 0.9910 - val_loss: 0.1026 - val_accuracy: 0.9932\n",
            "\n",
            "[Início da Época 8]\n",
            "CPU inicial: 0.60%, Memória inicial: 8281.92 MB\n",
            "Epoch 8/20\n",
            "23869/23887 [============================>.] - ETA: 0s - loss: 0.1107 - accuracy: 0.9910[Fim da Época 8]\n",
            "CPU final: 0.20%, Memória consumida: 6.70 MB, Tempo gasto: 59.58 segundos\n",
            "23887/23887 [==============================] - 60s 2ms/step - loss: 0.1107 - accuracy: 0.9910 - val_loss: 0.0983 - val_accuracy: 0.9933\n",
            "\n",
            "[Início da Época 9]\n",
            "CPU inicial: 0.10%, Memória inicial: 8288.62 MB\n",
            "Epoch 9/20\n",
            "23876/23887 [============================>.] - ETA: 0s - loss: 0.1102 - accuracy: 0.9911[Fim da Época 9]\n",
            "CPU final: 0.00%, Memória consumida: 6.50 MB, Tempo gasto: 60.43 segundos\n",
            "23887/23887 [==============================] - 60s 3ms/step - loss: 0.1102 - accuracy: 0.9911 - val_loss: 0.1030 - val_accuracy: 0.9928\n",
            "\n",
            "[Início da Época 10]\n",
            "CPU inicial: 0.10%, Memória inicial: 8295.12 MB\n",
            "Epoch 10/20\n",
            "23881/23887 [============================>.] - ETA: 0s - loss: 0.1087 - accuracy: 0.9911[Fim da Época 10]\n",
            "CPU final: 2.10%, Memória consumida: 2.00 MB, Tempo gasto: 58.88 segundos\n",
            "23887/23887 [==============================] - 59s 2ms/step - loss: 0.1086 - accuracy: 0.9911 - val_loss: 0.1009 - val_accuracy: 0.9928\n",
            "\n",
            "[Início da Época 11]\n",
            "CPU inicial: 1.90%, Memória inicial: 8297.12 MB\n",
            "Epoch 11/20\n",
            "23865/23887 [============================>.] - ETA: 0s - loss: 0.1069 - accuracy: 0.9912[Fim da Época 11]\n",
            "CPU final: 0.40%, Memória consumida: 3.30 MB, Tempo gasto: 58.14 segundos\n",
            "23887/23887 [==============================] - 58s 2ms/step - loss: 0.1070 - accuracy: 0.9912 - val_loss: 0.0965 - val_accuracy: 0.9926\n",
            "\n",
            "[Início da Época 12]\n",
            "CPU inicial: 0.20%, Memória inicial: 8300.43 MB\n",
            "Epoch 12/20\n",
            "23879/23887 [============================>.] - ETA: 0s - loss: 0.1052 - accuracy: 0.9912[Fim da Época 12]\n",
            "CPU final: 0.30%, Memória consumida: 1.16 MB, Tempo gasto: 57.60 segundos\n",
            "23887/23887 [==============================] - 58s 2ms/step - loss: 0.1053 - accuracy: 0.9912 - val_loss: 0.0991 - val_accuracy: 0.9917\n",
            "\n",
            "[Início da Época 13]\n",
            "CPU inicial: 0.10%, Memória inicial: 8301.59 MB\n",
            "Epoch 13/20\n",
            "23869/23887 [============================>.] - ETA: 0s - loss: 0.1072 - accuracy: 0.9912[Fim da Época 13]\n",
            "CPU final: 1.60%, Memória consumida: 0.45 MB, Tempo gasto: 58.12 segundos\n",
            "23887/23887 [==============================] - 58s 2ms/step - loss: 0.1072 - accuracy: 0.9912 - val_loss: 0.1144 - val_accuracy: 0.9908\n",
            "\n",
            "[Início da Época 14]\n",
            "CPU inicial: 1.60%, Memória inicial: 8302.03 MB\n",
            "Epoch 14/20\n",
            "23875/23887 [============================>.] - ETA: 0s - loss: 0.1074 - accuracy: 0.9911[Fim da Época 14]\n",
            "CPU final: 0.00%, Memória consumida: 0.69 MB, Tempo gasto: 58.42 segundos\n",
            "23887/23887 [==============================] - 58s 2ms/step - loss: 0.1073 - accuracy: 0.9911 - val_loss: 0.0998 - val_accuracy: 0.9922\n",
            "\n",
            "[Início da Época 15]\n",
            "CPU inicial: 0.30%, Memória inicial: 8302.72 MB\n",
            "Epoch 15/20\n",
            "23873/23887 [============================>.] - ETA: 0s - loss: 0.1068 - accuracy: 0.9912[Fim da Época 15]\n",
            "CPU final: 0.10%, Memória consumida: 0.49 MB, Tempo gasto: 57.73 segundos\n",
            "23887/23887 [==============================] - 58s 2ms/step - loss: 0.1067 - accuracy: 0.9912 - val_loss: 0.0943 - val_accuracy: 0.9935\n",
            "\n",
            "[Início da Época 16]\n",
            "CPU inicial: 0.00%, Memória inicial: 8303.21 MB\n",
            "Epoch 16/20\n",
            "23876/23887 [============================>.] - ETA: 0s - loss: 0.1057 - accuracy: 0.9911[Fim da Época 16]\n",
            "CPU final: 1.70%, Memória consumida: 0.28 MB, Tempo gasto: 58.37 segundos\n",
            "23887/23887 [==============================] - 58s 2ms/step - loss: 0.1057 - accuracy: 0.9911 - val_loss: 0.0985 - val_accuracy: 0.9934\n",
            "\n",
            "[Início da Época 17]\n",
            "CPU inicial: 1.60%, Memória inicial: 8303.49 MB\n",
            "Epoch 17/20\n",
            "23887/23887 [==============================] - ETA: 0s - loss: 0.1044 - accuracy: 0.9912[Fim da Época 17]\n",
            "CPU final: 0.10%, Memória consumida: 6.29 MB, Tempo gasto: 59.82 segundos\n",
            "23887/23887 [==============================] - 60s 3ms/step - loss: 0.1044 - accuracy: 0.9912 - val_loss: 0.0986 - val_accuracy: 0.9922\n",
            "\n",
            "[Início da Época 18]\n",
            "CPU inicial: 0.60%, Memória inicial: 8309.78 MB\n",
            "Epoch 18/20\n",
            "23865/23887 [============================>.] - ETA: 0s - loss: 0.1071 - accuracy: 0.9911[Fim da Época 18]\n",
            "CPU final: 0.00%, Memória consumida: 6.46 MB, Tempo gasto: 60.26 segundos\n",
            "23887/23887 [==============================] - 60s 3ms/step - loss: 0.1071 - accuracy: 0.9911 - val_loss: 0.0947 - val_accuracy: 0.9932\n",
            "\n",
            "[Início da Época 19]\n",
            "CPU inicial: 0.30%, Memória inicial: 8316.24 MB\n",
            "Epoch 19/20\n",
            "23877/23887 [============================>.] - ETA: 0s - loss: 0.1067 - accuracy: 0.9910[Fim da Época 19]\n",
            "CPU final: 0.10%, Memória consumida: 0.62 MB, Tempo gasto: 60.76 segundos\n",
            "23887/23887 [==============================] - 61s 3ms/step - loss: 0.1067 - accuracy: 0.9910 - val_loss: 0.0985 - val_accuracy: 0.9918\n",
            "\n",
            "[Início da Época 20]\n",
            "CPU inicial: 0.30%, Memória inicial: 8316.86 MB\n",
            "Epoch 20/20\n",
            "23879/23887 [============================>.] - ETA: 0s - loss: 0.1067 - accuracy: 0.9911[Fim da Época 20]\n",
            "CPU final: 0.40%, Memória consumida: 0.50 MB, Tempo gasto: 59.59 segundos\n",
            "23887/23887 [==============================] - 60s 2ms/step - loss: 0.1067 - accuracy: 0.9911 - val_loss: 0.0973 - val_accuracy: 0.9926\n"
          ]
        }
      ]
    },
    {
      "cell_type": "code",
      "source": [
        "!nvidia-smi"
      ],
      "metadata": {
        "colab": {
          "base_uri": "https://localhost:8080/"
        },
        "id": "LnQuMfoFCD99",
        "outputId": "27d79578-7082-45c6-fdca-103db81c264e"
      },
      "execution_count": 46,
      "outputs": [
        {
          "output_type": "stream",
          "name": "stdout",
          "text": [
            "/bin/bash: line 1: nvidia-smi: command not found\n"
          ]
        }
      ]
    },
    {
      "cell_type": "code",
      "source": [
        "#Matriz de Confusão\n",
        "\n",
        "y_pred = model.predict(X_test)\n",
        "y_pred_classes = (y_pred > 0.5).astype(int)\n",
        "\n",
        "\n",
        "cm = confusion_matrix(y_test, y_pred_classes)\n",
        "disp = ConfusionMatrixDisplay(confusion_matrix=cm, display_labels=[\"Benign\", \"Malign\"])\n",
        "disp.plot(cmap='Blues')"
      ],
      "metadata": {
        "colab": {
          "base_uri": "https://localhost:8080/",
          "height": 484
        },
        "id": "RnbqL9ni_iYc",
        "outputId": "021fc68b-2fc8-41ba-cfc1-0d88644bd8e6"
      },
      "execution_count": 47,
      "outputs": [
        {
          "output_type": "stream",
          "name": "stdout",
          "text": [
            "5972/5972 [==============================] - 9s 1ms/step\n"
          ]
        },
        {
          "output_type": "execute_result",
          "data": {
            "text/plain": [
              "<sklearn.metrics._plot.confusion_matrix.ConfusionMatrixDisplay at 0x7c7da8636080>"
            ]
          },
          "metadata": {},
          "execution_count": 47
        },
        {
          "output_type": "display_data",
          "data": {
            "text/plain": [
              "<Figure size 640x480 with 2 Axes>"
            ],
            "image/png": "[encoded data removed]"
          },
          "metadata": {}
        }
      ]
    },
    {
      "cell_type": "code",
      "source": [
        "#Maligno\n",
        "from sklearn.metrics import precision_score, recall_score, f1_score\n",
        "\n",
        "precision = precision_score(y_test, y_pred_classes, pos_label=1)\n",
        "recall = recall_score(y_test, y_pred_classes, pos_label=1)\n",
        "f1 = f1_score(y_test, y_pred_classes, pos_label=1)\n",
        "\n",
        "print(f\"Precisão: {precision}\")\n",
        "print(f\"Recall: {recall}\")\n",
        "print(f\"F1 Score: {f1}\")"
      ],
      "metadata": {
        "colab": {
          "base_uri": "https://localhost:8080/"
        },
        "id": "HO9JKPy5CO3o",
        "outputId": "44daf617-8f86-461c-83c9-0ec2240e5ff6"
      },
      "execution_count": 48,
      "outputs": [
        {
          "output_type": "stream",
          "name": "stdout",
          "text": [
            "Precisão: 0.9910731976932142\n",
            "Recall: 0.9942043540574752\n",
            "F1 Score: 0.9926363066638814\n"
          ]
        }
      ]
    },
    {
      "cell_type": "code",
      "source": [
        "#Benigno\n",
        "from sklearn.metrics import precision_score, recall_score, f1_score\n",
        "\n",
        "precision = precision_score(y_test, y_pred_classes, pos_label=0)\n",
        "recall = recall_score(y_test, y_pred_classes, pos_label=0)\n",
        "f1 = f1_score(y_test, y_pred_classes, pos_label=0)\n",
        "\n",
        "print(f\"Precisão: {precision}\")\n",
        "print(f\"Recall: {recall}\")\n",
        "print(f\"F1 Score: {f1}\")"
      ],
      "metadata": {
        "colab": {
          "base_uri": "https://localhost:8080/"
        },
        "id": "4E6uKrnYCh46",
        "outputId": "e36d884d-e90c-4626-83d5-531f2c06b569"
      },
      "execution_count": 49,
      "outputs": [
        {
          "output_type": "stream",
          "name": "stdout",
          "text": [
            "Precisão: 0.994180916768203\n",
            "Recall: 0.9910372123217389\n",
            "F1 Score: 0.9926065754286613\n"
          ]
        }
      ]
    },
    {
      "cell_type": "code",
      "source": [
        "# Gráfico de Acurácia\n",
        "plt.figure(figsize=(12, 6))\n",
        "\n",
        "# Acurácia de treino\n",
        "plt.subplot(1, 2, 1)\n",
        "plt.plot(history.history['accuracy'], label='Treinamento')\n",
        "plt.plot(history.history['val_accuracy'], label='Validação')\n",
        "plt.title('Acurácia por Época')\n",
        "plt.xlabel('Épocas')\n",
        "plt.ylabel('Acurácia')\n",
        "plt.legend()\n",
        "\n",
        "# Gráfico de Perda\n",
        "plt.subplot(1, 2, 2)\n",
        "plt.plot(history.history['loss'], label='Treinamento')\n",
        "plt.plot(history.history['val_loss'], label='Validação')\n",
        "plt.title('Perda por Época')\n",
        "plt.xlabel('Épocas')\n",
        "plt.ylabel('Perda')\n",
        "plt.legend()\n",
        "\n",
        "plt.tight_layout()\n",
        "plt.show()"
      ],
      "metadata": {
        "colab": {
          "base_uri": "https://localhost:8080/",
          "height": 607
        },
        "id": "NbJqXntM-C0q",
        "outputId": "e93fc2a5-9250-43a0-ac91-dbd3751e301f"
      },
      "execution_count": 50,
      "outputs": [
        {
          "output_type": "display_data",
          "data": {
            "text/plain": [
              "<Figure size 1200x600 with 2 Axes>"
            ],
            "image/png": "[encoded data removed]"
          },
          "metadata": {}
        }
      ]
    },
    {
      "cell_type": "code",
      "source": [
        "import matplotlib.pyplot as plt\n",
        "from sklearn.metrics import roc_curve, auc\n",
        "\n",
        "# Supondo que 'model' seja seu modelo treinado\n",
        "y_pred_prob = model.predict(X_test).flatten()  # Usando .flatten() para transformar em um vetor 1D"
      ],
      "metadata": {
        "colab": {
          "base_uri": "https://localhost:8080/"
        },
        "id": "oUVls-ta6sY3",
        "outputId": "f55b6b46-d266-46a4-8fe0-1b2a8815df7e"
      },
      "execution_count": 51,
      "outputs": [
        {
          "output_type": "stream",
          "name": "stdout",
          "text": [
            "5972/5972 [==============================] - 7s 1ms/step\n"
          ]
        }
      ]
    },
    {
      "cell_type": "code",
      "source": [
        "fpr, tpr, thresholds = roc_curve(y_test, y_pred_prob)"
      ],
      "metadata": {
        "id": "ZNVcNyk-6x7o"
      },
      "execution_count": 52,
      "outputs": []
    },
    {
      "cell_type": "code",
      "source": [
        "roc_auc = auc(fpr, tpr)"
      ],
      "metadata": {
        "id": "nmo7Pmob6zJq"
      },
      "execution_count": 53,
      "outputs": []
    },
    {
      "cell_type": "code",
      "source": [
        "import matplotlib.pyplot as plt\n",
        "from sklearn.metrics import roc_curve, auc\n",
        "\n",
        "# Calcular a curva ROC\n",
        "fpr, tpr, thresholds = roc_curve(y_test, y_pred_prob)\n",
        "\n",
        "# Calcular a AUC\n",
        "roc_auc = auc(fpr, tpr)\n",
        "\n",
        "# Plotar a curva ROC\n",
        "plt.figure()\n",
        "plt.plot(fpr, tpr, color='darkorange', lw=2, label='Curva ROC (AUC = %0.2f)' % roc_auc)\n",
        "plt.plot([0, 1], [0, 1], color='navy', lw=2, linestyle='--')  # Linha diagonal (chance aleatória)\n",
        "plt.xlim([0.0, 1.0])\n",
        "plt.ylim([0.0, 1.05])\n",
        "plt.xlabel('FPR (Taxa de Falsos Positivos)')\n",
        "plt.ylabel('TPR (Taxa de Verdadeiros Positivos)')\n",
        "plt.title('Curva ROC')\n",
        "plt.legend(loc=\"lower right\")\n",
        "plt.show()"
      ],
      "metadata": {
        "colab": {
          "base_uri": "https://localhost:8080/",
          "height": 472
        },
        "id": "TsQ7649G7qjl",
        "outputId": "6b385aa5-0a66-4544-9034-c6132100d8f1"
      },
      "execution_count": 54,
      "outputs": [
        {
          "output_type": "display_data",
          "data": {
            "text/plain": [
              "<Figure size 640x480 with 1 Axes>"
            ],
            "image/png": "[encoded data removed]"
          },
          "metadata": {}
        }
      ]
    }
  ],
  "metadata": {
    "accelerator": "TPU",
    "colab": {
      "gpuType": "V28",
      "provenance": [],
      "machine_shape": "hm",
      "include_colab_link": true
    },
    "kernelspec": {
      "display_name": "Python 3",
      "name": "python3"
    },
    "language_info": {
      "name": "python"
    }
  },
  "nbformat": 4,
  "nbformat_minor": 0
}